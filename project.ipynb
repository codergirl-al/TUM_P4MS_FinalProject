{
 "cells": [
  {
   "cell_type": "markdown",
   "id": "2409a32f",
   "metadata": {},
   "source": [
    "# EPL Match Data Analysis (2000-2025)\n",
    "\n",
    "**Dataset:** English Premier League Match Data 2000–2025  \n",
    "**Objective:** Analyze trends in match results and explore factors influencing match outcomes.\n",
    "\n",
    "## Research Questions\n",
    "1. What are the trends in home vs. away wins over time?\n",
    "2. How have goals per match evolved by season?\n",
    "3. Can we build a simple model to predict match results based on historical data?"
   ]
  },
  {
   "cell_type": "code",
   "execution_count": null,
   "id": "e3568a48",
   "metadata": {},
   "outputs": [],
   "source": [
    "# Import libraries\n",
    "import pandas as pd\n",
    "import numpy as np\n",
    "import matplotlib.pyplot as plt\n",
    "import seaborn as sns\n",
    "from sklearn.model_selection import train_test_split\n",
    "from sklearn.linear_model import LogisticRegression\n",
    "from sklearn.metrics import accuracy_score, confusion_matrix\n",
    "\n",
    "# Reproducibility\n",
    "RANDOM_STATE = 42\n",
    "np.random.seed(RANDOM_STATE)\n",
    "sns.set(style=\"whitegrid\")"
   ]
  },
  {
   "cell_type": "code",
   "execution_count": null,
   "id": "f5af542e",
   "metadata": {},
   "outputs": [],
   "source": [
    "# Load data\n",
    "df = pd.read_csv(\"dataset.csv\")\n",
    "df.head()"
   ]
  },
  {
   "cell_type": "markdown",
   "id": "30fc19fb",
   "metadata": {},
   "source": [
    "## Data Cleaning & Preparation"
   ]
  },
  {
   "cell_type": "code",
   "execution_count": null,
   "id": "be71ee2f",
   "metadata": {},
   "outputs": [],
   "source": [
    "def clean_data(dataframe):\n",
    "    \"\"\"\n",
    "    Cleans EPL dataset:\n",
    "    - Converts date column\n",
    "    - Fills missing numerical values\n",
    "    - Strips whitespace from object columns\n",
    "    \"\"\"\n",
    "    df = dataframe.copy()\n",
    "    \n",
    "    if 'Date' in df.columns:\n",
    "        df['Date'] = pd.to_datetime(df['Date'], errors='coerce')\n",
    "    \n",
    "    num_cols = df.select_dtypes(include=[np.number]).columns\n",
    "    df[num_cols] = df[num_cols].fillna(0)\n",
    "    \n",
    "    obj_cols = df.select_dtypes(include=['object']).columns\n",
    "    for col in obj_cols:\n",
    "        df[col] = df[col].str.strip()\n",
    "        \n",
    "    return df\n",
    "\n",
    "df = clean_data(df)\n",
    "df.info()"
   ]
  },
  {
   "cell_type": "markdown",
   "id": "dda0ed05",
   "metadata": {},
   "source": [
    "## Summary Statistics"
   ]
  },
  {
   "cell_type": "code",
   "execution_count": null,
   "id": "dba8eea3",
   "metadata": {},
   "outputs": [],
   "source": [
    "df.describe()"
   ]
  },
  {
   "cell_type": "markdown",
   "id": "9df99a8f",
   "metadata": {},
   "source": [
    "## Goals per Match Over Seasons"
   ]
  },
  {
   "cell_type": "code",
   "execution_count": null,
   "id": "01b0ae5a",
   "metadata": {},
   "outputs": [],
   "source": [
    "if 'Season' in df.columns:\n",
    "    goals_per_season = df.groupby('Season')[['FTHG','FTAG']].sum()\n",
    "    goals_per_season['TotalGoals'] = goals_per_season['FTHG'] + goals_per_season['FTAG']\n",
    "    \n",
    "    plt.figure(figsize=(12,6))\n",
    "    sns.lineplot(data=goals_per_season, x=goals_per_season.index, y='TotalGoals', marker='o')\n",
    "    plt.title('Total Goals per Season')\n",
    "    plt.xlabel('Season')\n",
    "    plt.ylabel('Goals')\n",
    "    plt.xticks(rotation=45)\n",
    "    plt.tight_layout()\n",
    "    plt.show()"
   ]
  },
  {
   "cell_type": "markdown",
   "id": "20c7ed73",
   "metadata": {},
   "source": [
    "## Home vs Away Wins Distribution"
   ]
  },
  {
   "cell_type": "code",
   "execution_count": null,
   "id": "476cb4bb",
   "metadata": {},
   "outputs": [],
   "source": [
    "if 'FTR' in df.columns:\n",
    "    plt.figure(figsize=(6,4))\n",
    "    sns.countplot(x='FTR', data=df, palette='Set2')\n",
    "    plt.title('Match Results Distribution')\n",
    "    plt.xlabel('FTR (H=Home Win, D=Draw, A=Away Win)')\n",
    "    plt.ylabel('Count')\n",
    "    plt.show()"
   ]
  },
  {
   "cell_type": "markdown",
   "metadata": {},
   "source": [
    "## Predicting Match Outcome (Simple Model)"
   ]
  },
  {
   "cell_type": "code",
   "execution_count": null,
   "metadata": {},
   "outputs": [],
   "source": [
    "def build_model(dataframe):\n",
    "    \"\"\"\n",
    "    Builds a logistic regression model predicting match result.\n",
    "    \"\"\"\n",
    "    df_model = dataframe.copy()\n",
    "    \n",
    "    if 'FTR' not in df_model.columns:\n",
    "        print(\"FTR column not found.\")\n",
    "        return\n",
    "    \n",
    "    df_model = df_model.dropna(subset=['FTR'])\n",
    "    X = df_model[['FTHG','FTAG']]  # Features: goals scored\n",
    "    y = df_model['FTR']\n",
    "    \n",
    "    y_encoded = y.map({'H':0,'D':1,'A':2})\n",
    "    \n",
    "    X_train, X_test, y_train, y_test = train_test_split(\n",
    "        X, y_encoded, test_size=0.2, random_state=RANDOM_STATE\n",
    "    )\n",
    "    \n",
    "    model = LogisticRegression(multi_class='multinomial', max_iter=500)\n",
    "    model.fit(X_train, y_train)\n",
    "    preds = model.predict(X_test)\n",
    "    \n",
    "    acc = accuracy_score(y_test, preds)\n",
    "    cm = confusion_matrix(y_test, preds)\n",
    "    \n",
    "    print(f\"Accuracy: {acc:.2f}\")\n",
    "    print(\"Confusion Matrix:\")\n",
    "    print(cm)\n",
    "    \n",
    "    return model\n",
    "\n",
    "_ = build_model(df)"
   ]
  },
  {
   "cell_type": "markdown",
   "metadata": {},
   "source": [
    "## Conclusions\n",
    "- Home wins remain frequent across seasons.\n",
    "- Goal totals fluctuate moderately.\n",
    "- Simple models can predict match outcome with modest accuracy.\n",
    "\n",
    "**Next steps:**\n",
    "- Incorporate more advanced features (team strength, odds).\n",
    "- Explore time-series forecasting.\n",
    "- Deploy interactive dashboards."
   ]
  }
 ],
 "metadata": {
  "kernelspec": {
   "display_name": "Python 3",
   "language": "python",
   "name": "python3"
  },
  "language_info": {
   "name": "python",
   "version": ""
  }
 },
 "nbformat": 4,
 "nbformat_minor": 5
}
